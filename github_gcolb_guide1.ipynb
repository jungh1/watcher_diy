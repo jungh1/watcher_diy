{
  "nbformat": 4,
  "nbformat_minor": 0,
  "metadata": {
    "colab": {
      "name": "github_gcolb_guide1.ipynb",
      "version": "0.3.2",
      "provenance": [],
      "collapsed_sections": [],
      "toc_visible": true
    },
    "kernelspec": {
      "name": "python3",
      "display_name": "Python 3"
    }
  },
  "cells": [
    {
      "cell_type": "markdown",
      "metadata": {
        "id": "5AhTD9hYXxZX",
        "colab_type": "text"
      },
      "source": [
        "# Welcome to Python Tutorial for google Collab and GitHub\n",
        "gDrive: https://colab.research.google.com/drive/12IOvFNaQP7omIeuagsw17T_VQjYxC-PR , updated 190629 3pm from gColab"
      ]
    },
    {
      "cell_type": "markdown",
      "metadata": {
        "id": "Q37_q-cSrTNZ",
        "colab_type": "text"
      },
      "source": [
        "## Chapter 1 Hello World!"
      ]
    },
    {
      "cell_type": "code",
      "metadata": {
        "id": "8LbGo8drYCnX",
        "colab_type": "code",
        "outputId": "79d3acee-e460-4a2a-a61f-913be540d290",
        "colab": {
          "base_uri": "https://localhost:8080/",
          "height": 34
        }
      },
      "source": [
        "print(\"hello world\")"
      ],
      "execution_count": 0,
      "outputs": [
        {
          "output_type": "stream",
          "text": [
            "hello world\n"
          ],
          "name": "stdout"
        }
      ]
    },
    {
      "cell_type": "markdown",
      "metadata": {
        "id": "2ou7gj79YMm4",
        "colab_type": "text"
      },
      "source": [
        "여기에 적은 코드들은 github에도 저장되고, google drive에도 저장이 되며,\n",
        "제 local에도 나중에 저장 가능합니다(git)\n",
        "나중에 이것은 gB, watcher_master에도 올려져서 진정한 serverless computing이 되어지게 될것입니다"
      ]
    },
    {
      "cell_type": "markdown",
      "metadata": {
        "id": "RVrBa_saulEh",
        "colab_type": "text"
      },
      "source": [
        "이 문서는 아래의 문서들을 참고하였습니다 \n",
        "https://zzsza.github.io/data/2018/08/30/google-colab/\n",
        "https://medium.com/@steve7an/how-to-test-jupyter-notebook-from-github-via-google-colab-7dc4b9b11a19"
      ]
    },
    {
      "cell_type": "markdown",
      "metadata": {
        "id": "5_4ps7hnsBCm",
        "colab_type": "text"
      },
      "source": [
        "### System Requirements\n",
        "\n"
      ]
    },
    {
      "cell_type": "code",
      "metadata": {
        "id": "IohuXzabsKl0",
        "colab_type": "code",
        "outputId": "1d3aeb24-d67c-4fbe-b7b0-2d267b07deb0",
        "colab": {
          "base_uri": "https://localhost:8080/",
          "height": 1000
        }
      },
      "source": [
        "!cat /etc/issue.net\n",
        "!cat /proc/cpuinfo\n",
        "!cat /proc/meminfo\n",
        "!df -h"
      ],
      "execution_count": 0,
      "outputs": [
        {
          "output_type": "stream",
          "text": [
            "Ubuntu 18.04.2 LTS\n",
            "processor\t: 0\n",
            "vendor_id\t: GenuineIntel\n",
            "cpu family\t: 6\n",
            "model\t\t: 63\n",
            "model name\t: Intel(R) Xeon(R) CPU @ 2.30GHz\n",
            "stepping\t: 0\n",
            "microcode\t: 0x1\n",
            "cpu MHz\t\t: 2300.000\n",
            "cache size\t: 46080 KB\n",
            "physical id\t: 0\n",
            "siblings\t: 2\n",
            "core id\t\t: 0\n",
            "cpu cores\t: 1\n",
            "apicid\t\t: 0\n",
            "initial apicid\t: 0\n",
            "fpu\t\t: yes\n",
            "fpu_exception\t: yes\n",
            "cpuid level\t: 13\n",
            "wp\t\t: yes\n",
            "flags\t\t: fpu vme de pse tsc msr pae mce cx8 apic sep mtrr pge mca cmov pat pse36 clflush mmx fxsr sse sse2 ss ht syscall nx pdpe1gb rdtscp lm constant_tsc rep_good nopl xtopology nonstop_tsc cpuid tsc_known_freq pni pclmulqdq ssse3 fma cx16 pcid sse4_1 sse4_2 x2apic movbe popcnt aes xsave avx f16c rdrand hypervisor lahf_lm abm invpcid_single pti ssbd ibrs ibpb stibp fsgsbase tsc_adjust bmi1 avx2 smep bmi2 erms invpcid xsaveopt arat arch_capabilities\n",
            "bugs\t\t: cpu_meltdown spectre_v1 spectre_v2 spec_store_bypass l1tf\n",
            "bogomips\t: 4600.00\n",
            "clflush size\t: 64\n",
            "cache_alignment\t: 64\n",
            "address sizes\t: 46 bits physical, 48 bits virtual\n",
            "power management:\n",
            "\n",
            "processor\t: 1\n",
            "vendor_id\t: GenuineIntel\n",
            "cpu family\t: 6\n",
            "model\t\t: 63\n",
            "model name\t: Intel(R) Xeon(R) CPU @ 2.30GHz\n",
            "stepping\t: 0\n",
            "microcode\t: 0x1\n",
            "cpu MHz\t\t: 2300.000\n",
            "cache size\t: 46080 KB\n",
            "physical id\t: 0\n",
            "siblings\t: 2\n",
            "core id\t\t: 0\n",
            "cpu cores\t: 1\n",
            "apicid\t\t: 1\n",
            "initial apicid\t: 1\n",
            "fpu\t\t: yes\n",
            "fpu_exception\t: yes\n",
            "cpuid level\t: 13\n",
            "wp\t\t: yes\n",
            "flags\t\t: fpu vme de pse tsc msr pae mce cx8 apic sep mtrr pge mca cmov pat pse36 clflush mmx fxsr sse sse2 ss ht syscall nx pdpe1gb rdtscp lm constant_tsc rep_good nopl xtopology nonstop_tsc cpuid tsc_known_freq pni pclmulqdq ssse3 fma cx16 pcid sse4_1 sse4_2 x2apic movbe popcnt aes xsave avx f16c rdrand hypervisor lahf_lm abm invpcid_single pti ssbd ibrs ibpb stibp fsgsbase tsc_adjust bmi1 avx2 smep bmi2 erms invpcid xsaveopt arat arch_capabilities\n",
            "bugs\t\t: cpu_meltdown spectre_v1 spectre_v2 spec_store_bypass l1tf\n",
            "bogomips\t: 4600.00\n",
            "clflush size\t: 64\n",
            "cache_alignment\t: 64\n",
            "address sizes\t: 46 bits physical, 48 bits virtual\n",
            "power management:\n",
            "\n",
            "MemTotal:       13335276 kB\n",
            "MemFree:        11299836 kB\n",
            "MemAvailable:   12671056 kB\n",
            "Buffers:           72416 kB\n",
            "Cached:          1453188 kB\n",
            "SwapCached:            0 kB\n",
            "Active:           508448 kB\n",
            "Inactive:        1295280 kB\n",
            "Active(anon):     250112 kB\n",
            "Inactive(anon):      348 kB\n",
            "Active(file):     258336 kB\n",
            "Inactive(file):  1294932 kB\n",
            "Unevictable:           0 kB\n",
            "Mlocked:               0 kB\n",
            "SwapTotal:             0 kB\n",
            "SwapFree:              0 kB\n",
            "Dirty:               432 kB\n",
            "Writeback:             0 kB\n",
            "AnonPages:        278236 kB\n",
            "Mapped:           191272 kB\n",
            "Shmem:               868 kB\n",
            "Slab:             146992 kB\n",
            "SReclaimable:     118072 kB\n",
            "SUnreclaim:        28920 kB\n",
            "KernelStack:        3648 kB\n",
            "PageTables:         4608 kB\n",
            "NFS_Unstable:          0 kB\n",
            "Bounce:                0 kB\n",
            "WritebackTmp:          0 kB\n",
            "CommitLimit:     6667636 kB\n",
            "Committed_AS:    1783244 kB\n",
            "VmallocTotal:   34359738367 kB\n",
            "VmallocUsed:           0 kB\n",
            "VmallocChunk:          0 kB\n",
            "AnonHugePages:         0 kB\n",
            "ShmemHugePages:        0 kB\n",
            "ShmemPmdMapped:        0 kB\n",
            "HugePages_Total:       0\n",
            "HugePages_Free:        0\n",
            "HugePages_Rsvd:        0\n",
            "HugePages_Surp:        0\n",
            "Hugepagesize:       2048 kB\n",
            "DirectMap4k:       63476 kB\n",
            "DirectMap2M:     4130816 kB\n",
            "DirectMap1G:    11534336 kB\n",
            "Filesystem      Size  Used Avail Use% Mounted on\n",
            "overlay          49G   26G   21G  55% /\n",
            "tmpfs           6.4G     0  6.4G   0% /dev\n",
            "tmpfs           6.4G     0  6.4G   0% /sys/fs/cgroup\n",
            "tmpfs           6.4G  8.0K  6.4G   1% /var/colab\n",
            "/dev/sda1        55G   27G   29G  49% /etc/hosts\n",
            "shm             6.0G  4.0K  6.0G   1% /dev/shm\n",
            "tmpfs           6.4G     0  6.4G   0% /sys/firmware\n"
          ],
          "name": "stdout"
        }
      ]
    },
    {
      "cell_type": "markdown",
      "metadata": {
        "id": "ngeWedTlslAh",
        "colab_type": "text"
      },
      "source": [
        "### Google Drive 데이터 읽고 쓰기\n",
        "\n",
        "colab에서 구글 드라이브 권한 획득\n",
        "아래 코드 실행후에 그 후 나오는 URL로 접속한 후, verification code 입력\n",
        "단, 매번 이 작업을 해줘야 함….(일정 시간 이후엔 끊김)"
      ]
    },
    {
      "cell_type": "code",
      "metadata": {
        "id": "i6e391OmsqMD",
        "colab_type": "code",
        "colab": {}
      },
      "source": [
        "from google.colab import auth\n",
        "auth.authenticate_user()\n",
        "\n",
        "from google.colab import drive\n",
        "drive.mount('/content/gdrive')"
      ],
      "execution_count": 0,
      "outputs": []
    },
    {
      "cell_type": "markdown",
      "metadata": {
        "id": "vPrGOCRCs77p",
        "colab_type": "text"
      },
      "source": [
        "colab에서 drive란 폴더를 만든 후, 우리 구글 드라이브의 root와 drive 폴더를 연결(mount) root에 data란 폴더가 있었음"
      ]
    },
    {
      "cell_type": "code",
      "metadata": {
        "id": "NJtNNIPQs5Tb",
        "colab_type": "code",
        "colab": {}
      },
      "source": [
        "!cd gdrive/data; ls-al;"
      ],
      "execution_count": 0,
      "outputs": []
    },
    {
      "cell_type": "markdown",
      "metadata": {
        "id": "Xu9tdOPKtNMq",
        "colab_type": "text"
      },
      "source": [
        "데이터를 읽어오기\n",
        "\n",
        "apt-key output should not be parsed (stdout is not a terminal)란 Warning이 나오면 이미 인증이 완료되었다는 뜻이므로 바로 mount하면 됨"
      ]
    },
    {
      "cell_type": "code",
      "metadata": {
        "id": "JR5Pv5PdtXHR",
        "colab_type": "code",
        "colab": {}
      },
      "source": [
        "import pandas as pd\n",
        "df = pd.read_csv(\"./gdrive/data/train_activity.csv\")"
      ],
      "execution_count": 0,
      "outputs": []
    },
    {
      "cell_type": "markdown",
      "metadata": {
        "id": "WVqOf6Zbtexi",
        "colab_type": "text"
      },
      "source": [
        "### Module 설치\n",
        "\n",
        "KoNLPy 설치\n",
        "공식 문서엔 openjdk-7-jdk로 작성되어 있으나, 우분투 17.04에선 ppa를 추가해야 설치 가능 ppa를 추가하지 않고 8 버전을 설치"
      ]
    },
    {
      "cell_type": "code",
      "metadata": {
        "id": "_6XYfjYGtnL0",
        "colab_type": "code",
        "colab": {}
      },
      "source": [
        "!apt-get update\n",
        "!apt-get install g++ openjdk-8-jdk \n",
        "!pip3 install konlpy"
      ],
      "execution_count": 0,
      "outputs": []
    },
    {
      "cell_type": "markdown",
      "metadata": {
        "id": "izdDslintu6H",
        "colab_type": "text"
      },
      "source": [
        "### Github 코드를 Colab에서 사용하기\n",
        "\n",
        "읽을 자료 (1) https://colab.research.google.com/github/googlecolab/colabtools/blob/master/notebooks/colab-github-demo.ipynb\n",
        "\n",
        "loading notebooks from github and saving notebooks to github.\n",
        "To save a Colab notebook to GitHub requires giving Colab permission to push the commit to your repository.\n",
        "\n",
        "(2) nbviewer나 htmlpreview처럼 사용 가능\n",
        "https://github.com/~~~ 부분을 https://colab.research.google.com/github/~~~로 교체하면 됨\n",
        "예시\n",
        "https://github.com/jungh1/watcher_diy/blob/master/github_gcolb_guide1.ipynb 를\n",
        "https://colab.research.google.com/github/jungh1/watcher_diy/blob/master/github_gcolb_guide1.ipynb 로 변경\n",
        "\n",
        "(3)\n",
        "\n",
        "https://reproducible-science-curriculum.github.io/sharing-RR-Jupyter/01-sharing-github/"
      ]
    },
    {
      "cell_type": "markdown",
      "metadata": {
        "id": "5iXXaa5tt-2D",
        "colab_type": "text"
      },
      "source": [
        "### JDK 설치하기\n",
        "Python을 사용해 JDK 설치하기"
      ]
    },
    {
      "cell_type": "code",
      "metadata": {
        "id": "i448imdvuDLS",
        "colab_type": "code",
        "colab": {}
      },
      "source": [
        "import os      \n",
        "  def install_java():\n",
        "    !apt-get install -y openjdk-8-jdk-headless -qq > /dev/null      #install openjdk\n",
        "    os.environ[\"JAVA_HOME\"] = \"/usr/lib/jvm/java-8-openjdk-amd64\"     #set environment variable\n",
        "    !java -version       #check java version\n",
        "  install_java()"
      ],
      "execution_count": 0,
      "outputs": []
    },
    {
      "cell_type": "markdown",
      "metadata": {
        "id": "vUTceIbEuGr7",
        "colab_type": "text"
      },
      "source": [
        "### Google Storage에서 파일 읽기/쓰기\n",
        "\n",
        "gsutil 사용\n",
        "단, 세션이 초기화되면 매번 gsutil로 파일을 땡겨와야 합니다\n"
      ]
    },
    {
      "cell_type": "code",
      "metadata": {
        "id": "Mc0VyzmEudwY",
        "colab_type": "code",
        "colab": {}
      },
      "source": [
        "from google.colab import auth\n",
        "  auth.authenticate_user()\n",
        "\t\n",
        "  import pandas as pd\n",
        "\t\n",
        "  file_path = 'data.csv'\n",
        "  !gsutil cp gs://<your_bucket>/{file_path} {file_path}\n",
        "  df = pd.read_csv(query_result_path)"
      ],
      "execution_count": 0,
      "outputs": []
    }
  ]
}